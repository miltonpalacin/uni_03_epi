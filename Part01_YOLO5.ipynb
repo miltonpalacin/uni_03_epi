{
 "cells": [
  {
   "cell_type": "markdown",
   "metadata": {},
   "source": [
    "# Ejecución de Código"
   ]
  },
  {
   "cell_type": "markdown",
   "metadata": {},
   "source": [
    "## Requisitos a Instalar"
   ]
  },
  {
   "cell_type": "code",
   "execution_count": 1,
   "metadata": {
    "code_folding": [
     0
    ]
   },
   "outputs": [
    {
     "name": "stdout",
     "output_type": "stream",
     "text": [
      "matplotlib 3.3.0\n",
      "numpy 1.19.1\n",
      "opencv-python 4.3.0\n",
      "pillow 7.1.2\n",
      "pycocotools 2.0\n",
      "PyYAML 5.3.1\n",
      "scipy 1.4.1\n",
      "tensorboard 2.3.0\n",
      "torch 1.6.0\n",
      "torchvision 0.7.0\n",
      "tqdm 4.48.0\n"
     ]
    }
   ],
   "source": [
    "# Requisitos que hay que instalar\n",
    "import Cython,matplotlib,numpy,cv2,yaml,PIL,scipy,tensorboard,torch,torchvision,tqdm\n",
    "from pycocotools import coco\n",
    "print(\"matplotlib\", matplotlib.__version__) # matplotlib>=3.2.2\n",
    "print(\"numpy\", numpy.__version__) # numpy>=1.18.5\n",
    "print(\"opencv-python\", cv2.__version__) # opencv-python>=4.1.2\n",
    "print(\"pillow\", PIL.__version__) # pillow\n",
    "print(\"pycocotools\", coco.__version__) # pycocotools>=2.0\n",
    "print(\"PyYAML\", yaml.__version__) # PyYAML>=5.3\n",
    "print(\"scipy\", scipy.__version__) # scipy>=1.4.1\n",
    "print(\"tensorboard\", tensorboard.__version__) # tensorboard>=2.2\n",
    "print(\"torch\", torch.__version__) # torch>=1.6.0\n",
    "print(\"torchvision\", torchvision.__version__) # torchvision>=0.7.0\n",
    "print(\"tqdm\", tqdm.__version__) # tqdm>=4.41.0"
   ]
  },
  {
   "cell_type": "markdown",
   "metadata": {},
   "source": [
    "## Construir DataSet"
   ]
  },
  {
   "cell_type": "code",
   "execution_count": 2,
   "metadata": {},
   "outputs": [
    {
     "name": "stderr",
     "output_type": "stream",
     "text": [
      "Downloading...\n",
      "From: https://drive.google.com/uc?id=1uWdQ2kn25RSQITtBHa9_zayplm27IXNC\n",
      "To: D:\\Code\\python\\epi\\trabajo\\clothing.json\n",
      "\n",
      "  0%|          | 0.00/199k [00:00<?, ?B/s]\n",
      "100%|##########| 199k/199k [00:00<00:00, 372kB/s]\n",
      "100%|##########| 199k/199k [00:00<00:00, 371kB/s]\n"
     ]
    }
   ],
   "source": [
    "!gdown --id 1uWdQ2kn25RSQITtBHa9_zayplm27IXNC"
   ]
  },
  {
   "cell_type": "code",
   "execution_count": 3,
   "metadata": {},
   "outputs": [],
   "source": [
    "# Importando librerias\n",
    "\n",
    "from pathlib import Path\n",
    "from tqdm import tqdm\n",
    "import numpy as np\n",
    "import json\n",
    "import urllib\n",
    "import PIL.Image as Image\n",
    "import cv2\n",
    "import torch\n",
    "import torchvision\n",
    "from IPython.display import display\n",
    "from sklearn.model_selection import train_test_split\n",
    "\n",
    "import seaborn as sns\n",
    "from pylab import rcParams\n",
    "import matplotlib.pyplot as plt\n",
    "from matplotlib import rc\n",
    "\n",
    "%matplotlib inline\n",
    "%config InlineBackend.figure_format='retina'\n",
    "sns.set(style='whitegrid', palette='muted', font_scale=1.2)\n",
    "rcParams['figure.figsize'] = 16, 10\n",
    "\n",
    "np.random.seed(42)"
   ]
  },
  {
   "cell_type": "code",
   "execution_count": 33,
   "metadata": {},
   "outputs": [],
   "source": [
    "clothing = []\n",
    "with open(\"clothing.json\") as f:\n",
    "    for line in f:\n",
    "        clothing.append(json.loads(line))"
   ]
  },
  {
   "cell_type": "code",
   "execution_count": 34,
   "metadata": {},
   "outputs": [
    {
     "data": {
      "text/plain": [
       "504"
      ]
     },
     "execution_count": 34,
     "metadata": {},
     "output_type": "execute_result"
    }
   ],
   "source": [
    "len(clothing)"
   ]
  },
  {
   "cell_type": "code",
   "execution_count": 54,
   "metadata": {},
   "outputs": [
    {
     "data": {
      "text/plain": [
       "{'content': 'http://com.dataturks.a96-i23.open.s3.amazonaws.com/2c9fafb063ad2b650163b00a1ead0017/4bb8fd9d-8d52-46c7-aa2a-9c18af10aed6___Data_xxl-top-4437-jolliy-original-imaekasxahykhd3t.jpeg',\n",
       " 'annotation': [{'label': ['Tops'],\n",
       "   'notes': '',\n",
       "   'points': [{'x': 0.02040816326530612, 'y': 0.2532051282051282},\n",
       "    {'x': 0.9931972789115646, 'y': 0.8108974358974359}],\n",
       "   'imageWidth': 147,\n",
       "   'imageHeight': 312}],\n",
       " 'extras': None}"
      ]
     },
     "execution_count": 54,
     "metadata": {},
     "output_type": "execute_result"
    }
   ],
   "source": [
    "clothing[355]"
   ]
  },
  {
   "cell_type": "code",
   "execution_count": 36,
   "metadata": {},
   "outputs": [],
   "source": [
    "for c in clothing:\n",
    "    if len(c[\"annotation\"]) > 1:\n",
    "        display(c)"
   ]
  },
  {
   "cell_type": "code",
   "execution_count": 37,
   "metadata": {},
   "outputs": [
    {
     "data": {
      "text/plain": [
       "['Shoes',\n",
       " 'sunglasses',\n",
       " 'Skirts',\n",
       " 'Jeans',\n",
       " 'Tops',\n",
       " 'Shirts',\n",
       " 'Tshirts',\n",
       " 'Jackets',\n",
       " 'Trousers']"
      ]
     },
     "execution_count": 37,
     "metadata": {},
     "output_type": "execute_result"
    }
   ],
   "source": [
    "categories = []\n",
    "\n",
    "for c in clothing:\n",
    "    for a in c[\"annotation\"]:\n",
    "        categories.extend(a[\"label\"])\n",
    "\n",
    "categories = list(set(categories))\n",
    "categories"
   ]
  },
  {
   "cell_type": "code",
   "execution_count": 38,
   "metadata": {},
   "outputs": [
    {
     "data": {
      "text/plain": [
       "9"
      ]
     },
     "execution_count": 38,
     "metadata": {},
     "output_type": "execute_result"
    }
   ],
   "source": [
    "len(categories)"
   ]
  },
  {
   "cell_type": "code",
   "execution_count": 39,
   "metadata": {},
   "outputs": [],
   "source": [
    "train_clothing, val_clothing = traing, val_clothing = train_test_split(clothing, test_size=0.1)"
   ]
  },
  {
   "cell_type": "code",
   "execution_count": 40,
   "metadata": {},
   "outputs": [
    {
     "data": {
      "text/plain": [
       "(453, 51)"
      ]
     },
     "execution_count": 40,
     "metadata": {},
     "output_type": "execute_result"
    }
   ],
   "source": [
    "len(train_clothing), len(val_clothing)"
   ]
  },
  {
   "cell_type": "code",
   "execution_count": 55,
   "metadata": {},
   "outputs": [
    {
     "data": {
      "text/plain": [
       "{'content': 'http://com.dataturks.a96-i23.open.s3.amazonaws.com/2c9fafb063ad2b650163b00a1ead0017/a923c37e-4f20-420f-946c-bf993e8c4245___Data_m-vhjk516m09541blue-van-heusen-original-imaf5a64zhe4gxds.jpeg',\n",
       " 'annotation': [{'label': ['Jackets'],\n",
       "   'notes': '',\n",
       "   'points': [{'x': 0.05952380952380952, 'y': 0.20833333333333334},\n",
       "    {'x': 1, 'y': 0.8108974358974359}],\n",
       "   'imageWidth': 168,\n",
       "   'imageHeight': 312}],\n",
       " 'extras': None}"
      ]
     },
     "execution_count": 55,
     "metadata": {},
     "output_type": "execute_result"
    }
   ],
   "source": [
    "train_clothing[0]"
   ]
  },
  {
   "cell_type": "code",
   "execution_count": 42,
   "metadata": {},
   "outputs": [
    {
     "data": {
      "text/plain": [
       "{'content': 'http://com.dataturks.a96-i23.open.s3.amazonaws.com/2c9fafb063ad2b650163b00a1ead0017/809b7d24-9031-4faf-ad74-66b83ddc7c4a___Data_xl-rt021-leana-original-imafyguj4gfp6sey.jpeg',\n",
       " 'annotation': [{'label': ['Tshirts'],\n",
       "   'notes': '',\n",
       "   'points': [{'x': 0.019867549668874173, 'y': 0.20512820512820512},\n",
       "    {'x': 1, 'y': 0.8397435897435898}],\n",
       "   'imageWidth': 151,\n",
       "   'imageHeight': 312}],\n",
       " 'extras': None}"
      ]
     },
     "execution_count": 42,
     "metadata": {},
     "output_type": "execute_result"
    }
   ],
   "source": [
    "row = train_clothing[355]\n",
    "row"
   ]
  },
  {
   "cell_type": "code",
   "execution_count": 43,
   "metadata": {},
   "outputs": [],
   "source": [
    "img = urllib.request.urlopen(row[\"content\"])\n",
    "img = Image.open(img)\n",
    "img = img.convert(\"RGB\")\n",
    "img.save(\"demo_image.jpg\", \"JPEG\")"
   ]
  },
  {
   "cell_type": "code",
   "execution_count": 44,
   "metadata": {},
   "outputs": [],
   "source": [
    "img = cv2.cvtColor(cv2.imread(\"demo_image.jpg\"), cv2.COLOR_BGR2RGB)"
   ]
  },
  {
   "cell_type": "code",
   "execution_count": 45,
   "metadata": {},
   "outputs": [
    {
     "data": {
      "text/plain": [
       "(312, 151, 3)"
      ]
     },
     "execution_count": 45,
     "metadata": {},
     "output_type": "execute_result"
    }
   ],
   "source": [
    "img.shape"
   ]
  },
  {
   "cell_type": "code",
   "execution_count": 46,
   "metadata": {},
   "outputs": [
    {
     "name": "stdout",
     "output_type": "stream",
     "text": [
      "{'label': ['Tshirts'], 'notes': '', 'points': [{'x': 0.019867549668874173, 'y': 0.20512820512820512}, {'x': 1, 'y': 0.8397435897435898}], 'imageWidth': 151, 'imageHeight': 312}\n"
     ]
    }
   ],
   "source": [
    "for a in row[\"annotation\"]:\n",
    "    print(a)"
   ]
  },
  {
   "cell_type": "code",
   "execution_count": 47,
   "metadata": {},
   "outputs": [],
   "source": [
    "for a in row[\"annotation\"]:\n",
    "    for label in a[\"label\"]:\n",
    "        \n",
    "        w = a[\"imageWidth\"]\n",
    "        h = a[\"imageHeight\"]\n",
    "        \n",
    "        points = a[\"points\"]\n",
    "        p1, p2 = points\n",
    "        \n",
    "        x1, y1 = p1[\"x\"] * w, p1[\"y\"] * h\n",
    "        x2, y2 = p2[\"x\"] * w, p2[\"y\"] * h\n",
    "        \n",
    "        cv2.rectangle(\n",
    "            img,\n",
    "            (int(x1), int(y1)),\n",
    "            (int(x2), int(y2)),\n",
    "            color = (0,255,0),\n",
    "            thickness = 2\n",
    "        )\n",
    "       \n",
    "        ((label_width, label_height), _) = cv2.getTextSize(\n",
    "            label,\n",
    "            fontFace = cv2.FONT_HERSHEY_PLAIN,\n",
    "            fontScale = 1.75,\n",
    "            thickness = 2\n",
    "        )\n",
    "        \n",
    "        cv2.rectangle(\n",
    "            img,\n",
    "            (int(x1), int(y1)),\n",
    "            (int(x1 + label_width + label_width * 0.05), \n",
    "             int(y1 + label_height + label_height * 0.05)),\n",
    "            color = (0,255,0),\n",
    "            thickness = cv2.FILLED\n",
    "        )\n",
    "        \n",
    "        cv2.putText(\n",
    "            img,\n",
    "            label,\n",
    "            org = (int(x1), int(y1 + label_height + label_height * 0.05)), # En la parte de abajo izquierda  del texto\n",
    "            fontFace = cv2.FONT_HERSHEY_PLAIN,\n",
    "            fontScale = 1.75, \n",
    "            color = (255,255,255),\n",
    "            thickness = 2\n",
    "        )"
   ]
  },
  {
   "cell_type": "code",
   "execution_count": 48,
   "metadata": {},
   "outputs": [
    {
     "data": {
      "text/plain": [
       "(-0.5, 150.5, 311.5, -0.5)"
      ]
     },
     "execution_count": 48,
     "metadata": {},
     "output_type": "execute_result"
    },
    {
     "data": {
      "image/png": "[encoded data removed]",
      "text/plain": [
       "<Figure size 1152x720 with 1 Axes>"
      ]
     },
     "metadata": {
      "image/png": {
       "height": 558,
       "width": 277
      }
     },
     "output_type": "display_data"
    }
   ],
   "source": [
    "plt.imshow(img)\n",
    "plt.axis(\"off\")"
   ]
  },
  {
   "cell_type": "code",
   "execution_count": 18,
   "metadata": {
    "code_folding": []
   },
   "outputs": [],
   "source": [
    "#img = cv2.cvtColor(cv2.imread(\"demo_image.jpg\"), cv2.COLOR_BGR2RGB)"
   ]
  },
  {
   "cell_type": "code",
   "execution_count": 49,
   "metadata": {},
   "outputs": [],
   "source": [
    "def create_dataset(clothing, dataset_type):\n",
    "    \n",
    "    images_path = Path(f\"clothing/images/{dataset_type}\")\n",
    "    images_path.mkdir(parents = True, exist_ok = True)\n",
    "    \n",
    "    labels_path = Path(f\"clothing/labels/{dataset_type}\")\n",
    "    labels_path.mkdir(parents = True, exist_ok = True)\n",
    "    \n",
    "    for img_id, row in enumerate(tqdm(clothing)):\n",
    "        \n",
    "        image_name = f\"{img_id}.jpg\"\n",
    "        \n",
    "        img = urllib.request.urlopen(row[\"content\"])\n",
    "        img = Image.open(img)\n",
    "        img = img.convert(\"RGB\")\n",
    "        \n",
    "        img.save(str(images_path / image_name), \"JPEG\")\n",
    "        \n",
    "        label_name = f\"{img_id}.txt\"\n",
    "        \n",
    "        with (labels_path / label_name).open(mode = \"w\") as label_file:\n",
    "            \n",
    "            for a in row[\"annotation\"]:\n",
    "                \n",
    "                for label in a[\"label\"]:\n",
    "                    \n",
    "                    category_idx = categories.index(label)\n",
    "                    \n",
    "                    points = a[\"points\"]\n",
    "                    p1, p2 = points\n",
    "                    \n",
    "                    x1, y1 = p1[\"x\"], p1[\"y\"]\n",
    "                    x2, y2 = p2[\"x\"], p2[\"y\"]\n",
    "                    \n",
    "                    bbox_width = x2 - x1\n",
    "                    bbox_height = y2 - y1\n",
    "                    \n",
    "                    label_file.write(\n",
    "                        f\"{category_idx} {x1 + bbox_width / 2} {y1 + bbox_height / 2} {bbox_width} {bbox_height}\"\n",
    "                    )\n",
    "                    "
   ]
  },
  {
   "cell_type": "code",
   "execution_count": 50,
   "metadata": {},
   "outputs": [
    {
     "name": "stderr",
     "output_type": "stream",
     "text": [
      "100%|████████████████████████████████████████████████████████████████████████████████| 453/453 [02:31<00:00,  2.99it/s]\n",
      "100%|██████████████████████████████████████████████████████████████████████████████████| 51/51 [00:16<00:00,  3.08it/s]\n"
     ]
    }
   ],
   "source": [
    "create_dataset(train_clothing, \"train\")\n",
    "create_dataset(val_clothing, \"val\")"
   ]
  },
  {
   "cell_type": "code",
   "execution_count": 51,
   "metadata": {},
   "outputs": [
    {
     "data": {
      "text/plain": [
       "{'content': 'http://com.dataturks.a96-i23.open.s3.amazonaws.com/2c9fafb063ad2b650163b00a1ead0017/cb7c3b93-2ddc-4c8f-a8f9-6082cabe1a52___Data_41U2jN3MQSL._AC_UL260_SR200260_.jpg.jpeg',\n",
       " 'annotation': [{'label': ['Jeans'],\n",
       "   'notes': '',\n",
       "   'points': [{'x': 0.265, 'y': 0.019230769230769232},\n",
       "    {'x': 0.7, 'y': 0.8769230769230769}],\n",
       "   'imageWidth': 200,\n",
       "   'imageHeight': 260}],\n",
       " 'extras': None}"
      ]
     },
     "execution_count": 51,
     "metadata": {},
     "output_type": "execute_result"
    }
   ],
   "source": [
    "clothing[355]"
   ]
  },
  {
   "cell_type": "code",
   "execution_count": 52,
   "metadata": {},
   "outputs": [
    {
     "name": "stdout",
     "output_type": "stream",
     "text": [
      " El volumen de la unidad D es DATA\n",
      " El n£mero de serie del volumen es: C034-56CE\n",
      "\n",
      " Directorio de D:\\Code\\python\\epi\\trabajo\\clothing\n",
      "\n",
      "11/08/2020  05:43    <DIR>          .\n",
      "11/08/2020  05:43    <DIR>          ..\n",
      "11/08/2020  05:45    <DIR>          images\n",
      "11/08/2020  05:45    <DIR>          labels\n",
      "               0 archivos              0 bytes\n",
      "               4 dirs  291,151,945,728 bytes libres\n"
     ]
    }
   ],
   "source": [
    "!dir clothing"
   ]
  },
  {
   "cell_type": "code",
   "execution_count": 53,
   "metadata": {},
   "outputs": [
    {
     "name": "stdout",
     "output_type": "stream",
     "text": [
      "7 0.5297619047619048 0.5096153846153846 0.9404761904761905 0.6025641025641025\n"
     ]
    }
   ],
   "source": [
    "!more .\\clothing\\labels\\train\\0.txt"
   ]
  },
  {
   "cell_type": "code",
   "execution_count": 1,
   "metadata": {},
   "outputs": [
    {
     "name": "stdout",
     "output_type": "stream",
     "text": [
      "D:\\Code\\python\\epi\\trabajo\\yolov5\n"
     ]
    },
    {
     "name": "stderr",
     "output_type": "stream",
     "text": [
      "Cloning into 'yolov5'...\n"
     ]
    }
   ],
   "source": [
    "!git clone https://github.com/ultralytics/yolov5.git\n",
    "%cd yolov5\n",
    "#!git checkout ec72eea62bf5bb86b0272f2e65e413957533507f"
   ]
  },
  {
   "cell_type": "code",
   "execution_count": 56,
   "metadata": {},
   "outputs": [
    {
     "name": "stdout",
     "output_type": "stream",
     "text": [
      "D:\\Code\\python\\epi\\trabajo\\yolov5\n"
     ]
    }
   ],
   "source": [
    "%cd yolov5"
   ]
  },
  {
   "cell_type": "code",
   "execution_count": 2,
   "metadata": {},
   "outputs": [
    {
     "name": "stderr",
     "output_type": "stream",
     "text": [
      "Downloading...\n",
      "From: https://drive.google.com/uc?id=1ZycPS5Ft_0vlfgHnLsfvZPhcH6qOAqBO\n",
      "To: D:\\Code\\python\\epi\\trabajo\\yolov5\\data\\clothing.yaml\n",
      "\n",
      "  0%|          | 0.00/172 [00:00<?, ?B/s]\n",
      "100%|##########| 172/172 [00:00<?, ?B/s] \n",
      "Downloading...\n",
      "From: https://drive.google.com/uc?id=1czESPsKbOWZF7_PkCcvRfTiUUJfpx12i\n",
      "To: D:\\Code\\python\\epi\\trabajo\\yolov5\\models\\yolov5x.yaml\n",
      "\n",
      "  0%|          | 0.00/1.58k [00:00<?, ?B/s]\n",
      "100%|##########| 1.58k/1.58k [00:00<00:00, 1.53MB/s]\n"
     ]
    }
   ],
   "source": [
    "!gdown --id 1ZycPS5Ft_0vlfgHnLsfvZPhcH6qOAqBO -O data/clothing.yaml\n",
    "!gdown --id 1czESPsKbOWZF7_PkCcvRfTiUUJfpx12i -O models/yolov5x.yaml"
   ]
  },
  {
   "cell_type": "code",
   "execution_count": null,
   "metadata": {},
   "outputs": [],
   "source": [
    "!python train.py --img 640 --batch 4 --epochs 30 \\\n",
    "  --data ./data/clothing.yaml --cfg ./models/yolov5x.yaml --weights yolov5x.pt \\\n",
    "  --name yolov5x_clothing --cache-images \\\n",
    "  --local_rank -2"
   ]
  },
  {
   "cell_type": "code",
   "execution_count": null,
   "metadata": {},
   "outputs": [],
   "source": []
  },
  {
   "cell_type": "code",
   "execution_count": null,
   "metadata": {},
   "outputs": [],
   "source": []
  },
  {
   "cell_type": "code",
   "execution_count": null,
   "metadata": {},
   "outputs": [],
   "source": []
  },
  {
   "cell_type": "code",
   "execution_count": null,
   "metadata": {},
   "outputs": [],
   "source": []
  },
  {
   "cell_type": "code",
   "execution_count": null,
   "metadata": {},
   "outputs": [],
   "source": []
  },
  {
   "cell_type": "code",
   "execution_count": null,
   "metadata": {},
   "outputs": [],
   "source": []
  },
  {
   "cell_type": "code",
   "execution_count": null,
   "metadata": {},
   "outputs": [],
   "source": []
  },
  {
   "cell_type": "code",
   "execution_count": null,
   "metadata": {},
   "outputs": [],
   "source": []
  }
 ],
 "metadata": {
  "kernelspec": {
   "display_name": "Python 3",
   "language": "python",
   "name": "python3"
  },
  "language_info": {
   "codemirror_mode": {
    "name": "ipython",
    "version": 3
   },
   "file_extension": ".py",
   "mimetype": "text/x-python",
   "name": "python",
   "nbconvert_exporter": "python",
   "pygments_lexer": "ipython3",
   "version": "3.8.1"
  },
  "toc": {
   "base_numbering": 1,
   "nav_menu": {},
   "number_sections": true,
   "sideBar": true,
   "skip_h1_title": false,
   "title_cell": "Table of Contents",
   "title_sidebar": "Contents",
   "toc_cell": false,
   "toc_position": {},
   "toc_section_display": true,
   "toc_window_display": false
  },
  "varInspector": {
   "cols": {
    "lenName": 16,
    "lenType": 16,
    "lenVar": 40
   },
   "kernels_config": {
    "python": {
     "delete_cmd_postfix": "",
     "delete_cmd_prefix": "del ",
     "library": "var_list.py",
     "varRefreshCmd": "print(var_dic_list())"
    },
    "r": {
     "delete_cmd_postfix": ") ",
     "delete_cmd_prefix": "rm(",
     "library": "var_list.r",
     "varRefreshCmd": "cat(var_dic_list()) "
    }
   },
   "position": {
    "height": "382.514px",
    "left": "222.361px",
    "right": "20px",
    "top": "105px",
    "width": "560px"
   },
   "types_to_exclude": [
    "module",
    "function",
    "builtin_function_or_method",
    "instance",
    "_Feature"
   ],
   "window_display": false
  }
 },
 "nbformat": 4,
 "nbformat_minor": 4
}
